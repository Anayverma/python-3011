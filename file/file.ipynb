{
 "cells": [
  {
   "cell_type": "code",
   "execution_count": 2,
   "metadata": {},
   "outputs": [],
   "source": [
    "# open and close a file\n",
    "# create a .txt file and read some of the characters and after that read -all the content of the file\n",
    "\n",
    "f=open(\"./txtfile.txt\",\"r\")\n",
    "f.read(4)\n",
    "f.read(4)\n",
    "f.read(4)\n",
    "f.read()\n",
    "f.close()\n"
   ]
  },
  {
   "cell_type": "code",
   "execution_count": 3,
   "metadata": {},
   "outputs": [
    {
     "name": "stdout",
     "output_type": "stream",
     "text": [
      "this is first line \n",
      "this is second line \n",
      "this is third line\n",
      "this is fourth linethis is the appended this is the appended this is the appended this is the appended This is the appended content.This is the appended content.this is the appended this is the appended "
     ]
    }
   ],
   "source": [
    "# wap to display entire content of file using loops\n",
    "\n",
    "file=open(\"./txtfile.txt\")\n",
    "\n",
    "for i in file.read():\n",
    "    print(i,end='')\n",
    "\n",
    "# also second way\n",
    "# for i in file:\n",
    "#     print(i)\n",
    "    \n",
    "# third way\n",
    "# for i in file.readlines():\n",
    "#     print(i)\n",
    "\n",
    "file.close()"
   ]
  },
  {
   "cell_type": "code",
   "execution_count": 8,
   "metadata": {},
   "outputs": [
    {
     "name": "stdout",
     "output_type": "stream",
     "text": [
      "<class 'list'>\n"
     ]
    }
   ],
   "source": [
    "# wap to display entire content of file using loops\n",
    "\n",
    "file=open(\"./txtfile.txt\")\n",
    "\n",
    "print(type(file.readlines()))\n",
    "file.close()"
   ]
  },
  {
   "cell_type": "code",
   "execution_count": 12,
   "metadata": {},
   "outputs": [
    {
     "name": "stdout",
     "output_type": "stream",
     "text": [
      "this is first line \n",
      "\n",
      "this is second line \n",
      "\n",
      "this is third line\n",
      "\n",
      "this is fourth line\n"
     ]
    }
   ],
   "source": [
    "# use readline function ot read some lines from file\n",
    "\n",
    "file=open(\"./txtfile.txt\",\"r\")\n",
    "print(file.readline())\n",
    "\n",
    "for i in file.readlines():\n",
    "    print(i)\n",
    "    \n",
    "file.close()\n"
   ]
  },
  {
   "cell_type": "code",
   "execution_count": 21,
   "metadata": {},
   "outputs": [
    {
     "name": "stdout",
     "output_type": "stream",
     "text": [
      "True\n"
     ]
    }
   ],
   "source": [
    "# write and append something to file with the help of write function and then check if the content is added or not\n",
    "\n",
    "file=open(\"./txtfile.txt\",\"a\")\n",
    "con=\"this is the appended \"\n",
    "file.write(con)\n",
    "file.close()\n",
    "\n",
    "file=open(\"./txtfile.txt\",\"r\")\n",
    "print(con in file.read())\n",
    "file.close()"
   ]
  },
  {
   "cell_type": "code",
   "execution_count": 16,
   "metadata": {},
   "outputs": [],
   "source": [
    "# delete a file using os module\n",
    "\n",
    "import os\n",
    "\n",
    "os.remove(\"./txt_test.txt\")\n",
    "\n",
    "\n",
    "\n"
   ]
  }
 ],
 "metadata": {
  "kernelspec": {
   "display_name": "Python 3",
   "language": "python",
   "name": "python3"
  },
  "language_info": {
   "codemirror_mode": {
    "name": "ipython",
    "version": 3
   },
   "file_extension": ".py",
   "mimetype": "text/x-python",
   "name": "python",
   "nbconvert_exporter": "python",
   "pygments_lexer": "ipython3",
   "version": "3.12.0"
  }
 },
 "nbformat": 4,
 "nbformat_minor": 2
}
