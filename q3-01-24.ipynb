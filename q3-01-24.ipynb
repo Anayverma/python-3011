{
 "cells": [
  {
   "cell_type": "code",
   "execution_count": 10,
   "metadata": {},
   "outputs": [
    {
     "name": "stdout",
     "output_type": "stream",
     "text": [
      "name age and marks are -ABC --- 18  =80 \n"
     ]
    }
   ],
   "source": [
    "# wap to demonstarate the use of overloading and overriding\n",
    "\n",
    "class A:\n",
    "    def __init__(self,name,age):\n",
    "        self.name=name\n",
    "        self.age=age\n",
    "    def show(self,exp):\n",
    "        print(\"name and age are : {} --- {} with an working experience of {}\".format(self.name,self.age,exp))\n",
    "    def show(self,marks):\n",
    "        print(\"marks of {} with roll no. {} are {} \".format(self.name,self.age,marks))\n",
    "class B(A):\n",
    "    def __init__(self,name,age,marks):\n",
    "        super().__init__(name, age)\n",
    "        self.marks=marks\n",
    "    def show(self):\n",
    "        print(\"name age and marks are -{} --- {}  ={} \".format(self.name,self.age,self.marks))\n",
    "b=B(\"ABC\",18,80)\n",
    "b.show()\n"
   ]
  },
  {
   "cell_type": "code",
   "execution_count": 13,
   "metadata": {},
   "outputs": [
    {
     "name": "stdout",
     "output_type": "stream",
     "text": [
      "Dog barks\n",
      "Animal speaks\n",
      "Cat meows\n",
      "Dog barks\n"
     ]
    }
   ],
   "source": [
    "class Animal:\n",
    "    def speak(self):\n",
    "        print(\"Animal speaks\")\n",
    "\n",
    "class Dog():\n",
    "    def bark(self):\n",
    "        print(\"Dog barks\")\n",
    "\n",
    "class Cat(Animal,Dog):\n",
    "    def meow(self):\n",
    "        print(\"Cat meows\")\n",
    "\n",
    "# Hierarchical Inheritance\n",
    "dog = Dog()\n",
    "# dog.speak()  # Inherited from Animal class\n",
    "dog.bark()   # Specific to Dog class\n",
    "\n",
    "cat = Cat()\n",
    "cat.speak()  # Inherited from Animal class\n",
    "cat.meow()\n",
    "cat.bark()   # Specific to Cat class\n"
   ]
  },
  {
   "cell_type": "code",
   "execution_count": 14,
   "metadata": {},
   "outputs": [
    {
     "name": "stdout",
     "output_type": "stream",
     "text": [
      "Living being breathes\n",
      "Animal speaks\n",
      "Mammal feeds milk\n",
      "Dog barks\n",
      "Living being breathes\n",
      "Animal speaks\n",
      "Mammal feeds milk\n",
      "Cat meows\n"
     ]
    }
   ],
   "source": [
    "class LivingBeing:\n",
    "    def breathe(self):\n",
    "        print(\"Living being breathes\")\n",
    "\n",
    "class Animal(LivingBeing):\n",
    "    def speak(self):\n",
    "        print(\"Animal speaks\")\n",
    "\n",
    "class Mammal(Animal):\n",
    "    def feed_milk(self):\n",
    "        print(\"Mammal feeds milk\")\n",
    "\n",
    "class Dog(Mammal):\n",
    "    def bark(self):\n",
    "        print(\"Dog barks\")\n",
    "\n",
    "class Cat(Mammal):\n",
    "    def meow(self):\n",
    "        print(\"Cat meows\")\n",
    "\n",
    "# Hybrid Inheritance\n",
    "dog = Dog()\n",
    "dog.breathe()    # Inherited from LivingBeing class\n",
    "dog.speak()      # Inherited from Animal class\n",
    "dog.feed_milk()  # Inherited from Mammal class\n",
    "dog.bark()       # Specific to Dog class\n",
    "\n",
    "cat = Cat()\n",
    "cat.breathe()    # Inherited from LivingBeing class\n",
    "cat.speak()      # Inherited from Animal class\n",
    "cat.feed_milk()  # Inherited from Mammal class\n",
    "cat.meow()       # Specific to Cat class\n"
   ]
  },
  {
   "cell_type": "code",
   "execution_count": null,
   "metadata": {},
   "outputs": [],
   "source": []
  }
 ],
 "metadata": {
  "kernelspec": {
   "display_name": "Python 3",
   "language": "python",
   "name": "python3"
  },
  "language_info": {
   "codemirror_mode": {
    "name": "ipython",
    "version": 3
   },
   "file_extension": ".py",
   "mimetype": "text/x-python",
   "name": "python",
   "nbconvert_exporter": "python",
   "pygments_lexer": "ipython3",
   "version": "3.12.0"
  }
 },
 "nbformat": 4,
 "nbformat_minor": 2
}
